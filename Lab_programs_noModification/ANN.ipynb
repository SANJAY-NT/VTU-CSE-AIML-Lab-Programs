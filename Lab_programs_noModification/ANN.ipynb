{
 "cells": [
  {
   "cell_type": "code",
   "execution_count": 3,
   "id": "f0de7882",
   "metadata": {},
   "outputs": [
    {
     "name": "stdout",
     "output_type": "stream",
     "text": [
      "Input: \n",
      "[[0.66666667 1.        ]\n",
      " [0.33333333 0.55555556]\n",
      " [1.         0.66666667]]\n",
      "Actual Output: \n",
      "[[0.92]\n",
      " [0.86]\n",
      " [0.89]]\n",
      "Predicted Output: \n",
      " [[0.89389026]\n",
      " [0.88209651]\n",
      " [0.89375057]]\n"
     ]
    }
   ],
   "source": [
    "import numpy as np\n",
    "X = np.array(([2, 9], [1, 5], [3, 6]), dtype=float)\n",
    "y = np.array(([92], [86], [89]), dtype=float)\n",
    "X = X/np.amax(X,axis=0)\n",
    "y = y/100\n",
    "\n",
    "\n",
    "def sigmoid (x):\n",
    "    return 1/(1 + np.exp(-x))\n",
    "\n",
    "\n",
    "def dersig(x):\n",
    "    return x * (1 - x)\n",
    "\n",
    "\n",
    "e=7000\n",
    "lr=0.1 \n",
    "iln = 2 \n",
    "hln = 3\n",
    "oln = 1 \n",
    "\n",
    "wh=np.random.uniform(size=(iln,hln))\n",
    "bh=np.random.uniform(size=(1,hln))\n",
    "wout=np.random.uniform(size=(hln,oln))\n",
    "bout=np.random.uniform(size=(1,oln))\n",
    "\n",
    "\n",
    "for i in range(e):\n",
    "    hla = sigmoid((np.dot(X,wh) +bh))\n",
    "    op = sigmoid((np.dot(hla,wout)+bout))\n",
    "    \n",
    "    dop = (y-op)* dersig(op)\n",
    "    dhl = dop.dot(wout.T) * dersig(hla)\n",
    "    wout += hla.T.dot(dop) *lr\n",
    "    wh += X.T.dot(dhl) *lr\n",
    "print(\"Input: \\n\" + str(X))\n",
    "print(\"Actual Output: \\n\" + str(y))\n",
    "print(\"Predicted Output: \\n\" ,op)\n"
   ]
  },
  {
   "cell_type": "code",
   "execution_count": 4,
   "id": "5b113b89",
   "metadata": {},
   "outputs": [],
   "source": [
    "# for i in range(e):\n",
    "#     h1=np.dot(X,wh)\n",
    "#     h=h1 + bh\n",
    "#     hla = sigmoid(h)\n",
    "#     oi1=np.dot(hla,wout)\n",
    "#     oi= oi1+ bout\n",
    "#     op = sigmoid(oi)\n",
    "    \n",
    "#     EO = y-op\n",
    "#     og = dersig(op)\n",
    "#     dop = EO* og\n",
    "#     EH = dop.dot(wout.T)\n",
    "#     hg = dersig(hla)\n",
    "#     dhl = EH * hg\n",
    "#     wout += hla.T.dot(dop) *lr\n",
    "#     wh += X.T.dot(dhl) *lr"
   ]
  },
  {
   "cell_type": "code",
   "execution_count": null,
   "id": "2d37f1cc",
   "metadata": {},
   "outputs": [],
   "source": []
  }
 ],
 "metadata": {
  "kernelspec": {
   "display_name": "Python 3",
   "language": "python",
   "name": "python3"
  },
  "language_info": {
   "codemirror_mode": {
    "name": "ipython",
    "version": 3
   },
   "file_extension": ".py",
   "mimetype": "text/x-python",
   "name": "python",
   "nbconvert_exporter": "python",
   "pygments_lexer": "ipython3",
   "version": "3.8.5"
  }
 },
 "nbformat": 4,
 "nbformat_minor": 5
}
