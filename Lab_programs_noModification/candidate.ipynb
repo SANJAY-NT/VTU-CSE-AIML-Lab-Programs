{
 "cells": [
  {
   "cell_type": "code",
   "execution_count": 1,
   "id": "9db564ba",
   "metadata": {},
   "outputs": [
    {
     "name": "stdout",
     "output_type": "stream",
     "text": [
      "Step 1\n",
      "G0 = [['sunny', '?', '?', '?', '?', '?'], ['?', 'warm', '?', '?', '?', '?'], ['?', '?', 'normal', '?', '?', '?'], ['?', '?', '?', 'strong', '?', '?'], ['?', '?', '?', '?', 'warm', '?'], ['?', '?', '?', '?', '?', 'same']]\n",
      "S0 = ['sunny' 'warm' 'normal' 'strong' 'warm' 'same']\n",
      "Step 2\n",
      "G1 = [['sunny', '?', '?', '?', '?', '?'], ['?', 'warm', '?', '?', '?', '?'], ['?', '?', 'normal', '?', '?', '?'], ['?', '?', '?', 'strong', '?', '?'], ['?', '?', '?', '?', 'warm', '?'], ['?', '?', '?', '?', '?', 'same']]\n",
      "S1 = ['sunny' 'warm' 'normal' 'strong' 'warm' 'same']\n",
      "Step 3\n",
      "G2 = [['sunny', '?', '?', '?', '?', '?'], ['?', 'warm', '?', '?', '?', '?'], ['?', '?', '?', '?', '?', '?'], ['?', '?', '?', 'strong', '?', '?'], ['?', '?', '?', '?', 'warm', '?'], ['?', '?', '?', '?', '?', 'same']]\n",
      "S2 = ['sunny' 'warm' '?' 'strong' 'warm' 'same']\n",
      "Step 4\n",
      "G3 = [['sunny', '?', '?', '?', '?', '?'], ['?', 'warm', '?', '?', '?', '?'], ['?', '?', '?', '?', '?', '?'], ['?', '?', '?', '?', '?', '?'], ['?', '?', '?', '?', '?', '?'], ['?', '?', '?', '?', '?', 'same']]\n",
      "S3 = ['sunny' 'warm' '?' 'strong' 'warm' 'same']\n",
      "Step 5\n",
      "G4 = [['sunny', '?', '?', '?', '?', '?'], ['?', 'warm', '?', '?', '?', '?'], ['?', '?', '?', '?', '?', '?'], ['?', '?', '?', '?', '?', '?'], ['?', '?', '?', '?', '?', '?'], ['?', '?', '?', '?', '?', '?']]\n",
      "S4 = ['sunny' 'warm' '?' 'strong' '?' '?']\n"
     ]
    }
   ],
   "source": [
    "import csv, numpy as np\n",
    "from traceback import print_tb\n",
    "\n",
    "with open(\"3.csv\", \"r\") as file:\n",
    "    read = csv.reader(file)\n",
    "    list = np.array(list(read))\n",
    "\n",
    "concept = np.array(list[:,:-1])\n",
    "target = np.array(list[:,-1])\n",
    "\n",
    "for i in range(len(target)):\n",
    "    if(target[i] == \"Y\"):\n",
    "        specific = concept[i]\n",
    "        break\n",
    "\n",
    "generic = [[\"?\" for i in range(len(specific))] for i in range(len(specific))]\n",
    "\n",
    "for i in range(len(target)):\n",
    "    if(target[i] == \"Y\"):\n",
    "        for j in range(len(specific)):\n",
    "            if(specific[j] != concept[i][j]):\n",
    "                specific[j] = \"?\"\n",
    "                generic[j][j] = \"?\"\n",
    "\n",
    "    else:\n",
    "        for j in range(len(specific)):\n",
    "            if specific[j] != concept[i][j]:\n",
    "                generic[j][j] = specific[j]\n",
    "            else:\n",
    "                generic[j][j] = \"?\"\n",
    "\n",
    "    print(\"Step {}\".format(i+1))\n",
    "    print(\"G{} = {}\".format(i, generic))\n",
    "    print(\"S{} = {}\".format(i, specific))"
   ]
  },
  {
   "cell_type": "code",
   "execution_count": null,
   "id": "a287b5f8",
   "metadata": {},
   "outputs": [],
   "source": []
  }
 ],
 "metadata": {
  "kernelspec": {
   "display_name": "Python 3",
   "language": "python",
   "name": "python3"
  },
  "language_info": {
   "codemirror_mode": {
    "name": "ipython",
    "version": 3
   },
   "file_extension": ".py",
   "mimetype": "text/x-python",
   "name": "python",
   "nbconvert_exporter": "python",
   "pygments_lexer": "ipython3",
   "version": "3.8.5"
  }
 },
 "nbformat": 4,
 "nbformat_minor": 5
}
